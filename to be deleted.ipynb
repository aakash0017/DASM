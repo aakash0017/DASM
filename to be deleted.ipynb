{
 "cells": [
  {
   "cell_type": "code",
   "execution_count": 29,
   "metadata": {},
   "outputs": [],
   "source": [
    "import pandas as pd\n",
    "import numpy as np\n",
    "from sklearn.feature_extraction.text import CountVectorizer\n",
    "from sklearn.feature_extraction.text import TfidfTransformer\n",
    "from sklearn.pipeline import Pipeline\n",
    "from sklearn.model_selection import train_test_split\n",
    "from sklearn.linear_model import SGDClassifier\n",
    "from sklearn.pipeline import Pipeline\n",
    "import pickle\n",
    "from sklearn.calibration import CalibratedClassifierCV\n",
    "\n",
    "from sklearn.svm import LinearSVC\n",
    "from sklearn.preprocessing import LabelEncoder"
   ]
  },
  {
   "cell_type": "code",
   "execution_count": 23,
   "metadata": {},
   "outputs": [],
   "source": [
    "df=pd.read_csv('Anxiety - Sheet1.csv')\n",
    "X=df.Questions\n",
    "y = df.type\n"
   ]
  },
  {
   "cell_type": "code",
   "execution_count": 24,
   "metadata": {},
   "outputs": [],
   "source": [
    "count_vect = CountVectorizer()\n",
    "X_train_counts = count_vect.fit_transform(X)\n",
    "tf_transformer = TfidfTransformer().fit(X_train_counts)\n",
    "X_train_transformed = tf_transformer.transform(X_train_counts)"
   ]
  },
  {
   "cell_type": "code",
   "execution_count": 26,
   "metadata": {},
   "outputs": [],
   "source": [
    "labels = LabelEncoder()\n",
    "y_train_labels_fit = labels.fit(y)\n",
    "y_train_lables_trf = labels.transform(y)"
   ]
  },
  {
   "cell_type": "code",
   "execution_count": 30,
   "metadata": {},
   "outputs": [],
   "source": [
    "linear_svc = LinearSVC()\n",
    "clf = linear_svc.fit(X_train_transformed,y_train_lables_trf)"
   ]
  },
  {
   "cell_type": "code",
   "execution_count": 31,
   "metadata": {},
   "outputs": [],
   "source": [
    "calibrated_svc = CalibratedClassifierCV(base_estimator=linear_svc,\n",
    "                                        cv=\"prefit\")"
   ]
  },
  {
   "cell_type": "code",
   "execution_count": 32,
   "metadata": {},
   "outputs": [],
   "source": [
    "calibrated_svc.fit(X_train_transformed,y_train_lables_trf)\n",
    "predicted = calibrated_svc.predict(X_test_transformed)"
   ]
  },
  {
   "cell_type": "code",
   "execution_count": 33,
   "metadata": {},
   "outputs": [],
   "source": [
    "to_predict = [\"I am fat and dumb and people are now making fun of me. i feel so under confident all the time\"]"
   ]
  },
  {
   "cell_type": "code",
   "execution_count": 34,
   "metadata": {},
   "outputs": [],
   "source": [
    "p_count = count_vect.transform(to_predict)\n",
    "p_tfidf = tf_transformer.transform(p_count)"
   ]
  },
  {
   "cell_type": "code",
   "execution_count": 35,
   "metadata": {},
   "outputs": [
    {
     "name": "stdout",
     "output_type": "stream",
     "text": [
      "[[0.11628353 0.80824201 0.07547446]]\n"
     ]
    }
   ],
   "source": [
    "print(calibrated_svc.predict_proba(p_tfidf))"
   ]
  },
  {
   "cell_type": "code",
   "execution_count": 36,
   "metadata": {},
   "outputs": [
    {
     "data": {
      "text/plain": [
       "0     Generalized Anxiety Disorder\n",
       "1     Generalized Anxiety Disorder\n",
       "2     Generalized Anxiety Disorder\n",
       "3     Generalized Anxiety Disorder\n",
       "4     Generalized Anxiety Disorder\n",
       "5     Generalized Anxiety Disorder\n",
       "6     Generalized Anxiety Disorder\n",
       "7     Generalized Anxiety Disorder\n",
       "8     Generalized Anxiety Disorder\n",
       "9     Generalized Anxiety Disorder\n",
       "10    Generalized Anxiety Disorder\n",
       "11                Emotional Change\n",
       "12                Emotional Change\n",
       "13                Emotional Change\n",
       "14                Emotional Change\n",
       "15                Emotional Change\n",
       "16                Emotional Change\n",
       "17                Emotional Change\n",
       "18                Emotional Change\n",
       "19                  Social changes\n",
       "20                Emotional Change\n",
       "21                  Social changes\n",
       "22                  Social changes\n",
       "23                  Social changes\n",
       "24                  Social changes\n",
       "Name: type, dtype: object"
      ]
     },
     "execution_count": 36,
     "metadata": {},
     "output_type": "execute_result"
    }
   ],
   "source": [
    "y"
   ]
  },
  {
   "cell_type": "code",
   "execution_count": 37,
   "metadata": {},
   "outputs": [
    {
     "data": {
      "text/plain": [
       "array([1, 1, 1, 1, 1, 1, 1, 1, 1, 1, 1, 0, 0, 0, 0, 0, 0, 0, 0, 2, 0, 2,\n",
       "       2, 2, 2])"
      ]
     },
     "execution_count": 37,
     "metadata": {},
     "output_type": "execute_result"
    }
   ],
   "source": [
    "y_train_lables_trf"
   ]
  },
  {
   "cell_type": "code",
   "execution_count": 38,
   "metadata": {},
   "outputs": [
    {
     "name": "stdout",
     "output_type": "stream",
     "text": [
      "['Emotional Change' 'Generalized Anxiety Disorder' 'Social changes']\n"
     ]
    }
   ],
   "source": [
    "print(labels.classes_)"
   ]
  },
  {
   "cell_type": "code",
   "execution_count": null,
   "metadata": {},
   "outputs": [],
   "source": []
  }
 ],
 "metadata": {
  "kernelspec": {
   "display_name": "Python 3",
   "language": "python",
   "name": "python3"
  },
  "language_info": {
   "codemirror_mode": {
    "name": "ipython",
    "version": 3
   },
   "file_extension": ".py",
   "mimetype": "text/x-python",
   "name": "python",
   "nbconvert_exporter": "python",
   "pygments_lexer": "ipython3",
   "version": "3.6.5"
  }
 },
 "nbformat": 4,
 "nbformat_minor": 2
}
