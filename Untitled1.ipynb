{
 "cells": [
  {
   "cell_type": "code",
   "execution_count": 1,
   "metadata": {},
   "outputs": [],
   "source": [
    "import nltk\n",
    "from random import randint\n",
    "import numpy as np\n",
    "import random\n",
    "\n",
    "import string\n",
    "import pickle\n",
    "import pandas as pd\n",
    "import sys\n",
    "\n",
    "import nltk\n",
    "import numpy as np\n",
    "import random\n",
    "import string # to process standard python strings\n",
    "from sklearn.feature_extraction.text import TfidfVectorizer\n",
    "from sklearn.metrics.pairwise import cosine_similarity\n",
    "\n",
    "import nltk\n",
    "from nltk.tokenize import word_tokenize\n",
    "from nltk.tag import pos_tag\n",
    "from nltk.chunk import conlltags2tree, tree2conlltags\n",
    "from pprint import pprint"
   ]
  },
  {
   "cell_type": "code",
   "execution_count": 2,
   "metadata": {},
   "outputs": [
    {
     "name": "stdout",
     "output_type": "stream",
     "text": [
      "[nltk_data] Error loading punkt: <urlopen error [Errno -2] Name or\n",
      "[nltk_data]     service not known>\n",
      "[nltk_data] Error loading wordnet: <urlopen error [Errno -2] Name or\n",
      "[nltk_data]     service not known>\n",
      "[nltk_data] Error loading punkt: <urlopen error [Errno -2] Name or\n",
      "[nltk_data]     service not known>\n",
      "[nltk_data] Error loading wordnet: <urlopen error [Errno -2] Name or\n",
      "[nltk_data]     service not known>\n",
      "[nltk_data] Error loading punkt: <urlopen error [Errno -2] Name or\n",
      "[nltk_data]     service not known>\n",
      "[nltk_data] Error loading wordnet: <urlopen error [Errno -2] Name or\n",
      "[nltk_data]     service not known>\n",
      "[nltk_data] Error loading punkt: <urlopen error [Errno -2] Name or\n",
      "[nltk_data]     service not known>\n",
      "[nltk_data] Error loading wordnet: <urlopen error [Errno -2] Name or\n",
      "[nltk_data]     service not known>\n",
      "[nltk_data] Error loading punkt: <urlopen error [Errno -2] Name or\n",
      "[nltk_data]     service not known>\n",
      "[nltk_data] Error loading wordnet: <urlopen error [Errno -2] Name or\n",
      "[nltk_data]     service not known>\n"
     ]
    }
   ],
   "source": [
    "from GAD_FUTURE_EVENTS import future\n",
    "from GAD_PAST_BEHAVIOURS import past_behaviour\n",
    "from GAD_PERONAL_ABILITIES import perosnal_abiities\n",
    "from GAD_SOCIAL_ACCEPTANCE import social_acceptance\n",
    "from GAD_POOR_PERFORMANCE import performance"
   ]
  },
  {
   "cell_type": "code",
   "execution_count": 3,
   "metadata": {},
   "outputs": [
    {
     "name": "stdout",
     "output_type": "stream",
     "text": [
      "[nltk_data] Error loading punkt: <urlopen error [Errno -2] Name or\n",
      "[nltk_data]     service not known>\n",
      "[nltk_data] Error loading wordnet: <urlopen error [Errno -2] Name or\n",
      "[nltk_data]     service not known>\n",
      "[nltk_data] Error loading punkt: <urlopen error [Errno -2] Name or\n",
      "[nltk_data]     service not known>\n",
      "[nltk_data] Error loading wordnet: <urlopen error [Errno -2] Name or\n",
      "[nltk_data]     service not known>\n",
      "[nltk_data] Error loading punkt: <urlopen error [Errno -2] Name or\n",
      "[nltk_data]     service not known>\n",
      "[nltk_data] Error loading wordnet: <urlopen error [Errno -2] Name or\n",
      "[nltk_data]     service not known>\n",
      "[nltk_data] Error loading punkt: <urlopen error [Errno -2] Name or\n",
      "[nltk_data]     service not known>\n",
      "[nltk_data] Error loading wordnet: <urlopen error [Errno -2] Name or\n",
      "[nltk_data]     service not known>\n"
     ]
    }
   ],
   "source": [
    "from EMOTIONAL_CHANG_OUTBURST import outburst\n",
    "from EMOTIONAL_CHANGE_DIFFICULTY_IN_CONCENTRATION import difficult_in_concentration\n",
    "from EMOTIONAL_CHANGE_IRRITAIBILITY import Irritaibility\n",
    "from EMOTIONAL_CHANGE_RESTLESSNESS import restlessness"
   ]
  },
  {
   "cell_type": "code",
   "execution_count": 4,
   "metadata": {},
   "outputs": [
    {
     "name": "stdout",
     "output_type": "stream",
     "text": [
      "[nltk_data] Error loading punkt: <urlopen error [Errno -2] Name or\n",
      "[nltk_data]     service not known>\n",
      "[nltk_data] Error loading wordnet: <urlopen error [Errno -2] Name or\n",
      "[nltk_data]     service not known>\n",
      "[nltk_data] Error loading punkt: <urlopen error [Errno -2] Name or\n",
      "[nltk_data]     service not known>\n",
      "[nltk_data] Error loading wordnet: <urlopen error [Errno -2] Name or\n",
      "[nltk_data]     service not known>\n",
      "[nltk_data] Error loading punkt: <urlopen error [Errno -2] Name or\n",
      "[nltk_data]     service not known>\n",
      "[nltk_data] Error loading wordnet: <urlopen error [Errno -2] Name or\n",
      "[nltk_data]     service not known>\n",
      "[nltk_data] Error loading punkt: <urlopen error [Errno -2] Name or\n",
      "[nltk_data]     service not known>\n",
      "[nltk_data] Error loading wordnet: <urlopen error [Errno -2] Name or\n",
      "[nltk_data]     service not known>\n"
     ]
    }
   ],
   "source": [
    "from SOCIAL_AVOIDING_EA import avoiding_extracirricular\n",
    "from SOCIAL_AVOIDING_FRIENDS import avoiding_friends\n",
    "from SOCIAL_ISOLATION import isolation\n",
    "from SOCIAL_SPENDING_TIME_ALONE import spending_increased_time_alone"
   ]
  },
  {
   "cell_type": "code",
   "execution_count": 5,
   "metadata": {},
   "outputs": [
    {
     "name": "stdout",
     "output_type": "stream",
     "text": [
      "[nltk_data] Error loading punkt: <urlopen error [Errno -2] Name or\n",
      "[nltk_data]     service not known>\n",
      "[nltk_data] Error loading wordnet: <urlopen error [Errno -2] Name or\n",
      "[nltk_data]     service not known>\n",
      "[nltk_data] Error loading punkt: <urlopen error [Errno -2] Name or\n",
      "[nltk_data]     service not known>\n",
      "[nltk_data] Error loading wordnet: <urlopen error [Errno -2] Name or\n",
      "[nltk_data]     service not known>\n",
      "[nltk_data] Error loading punkt: <urlopen error [Errno -2] Name or\n",
      "[nltk_data]     service not known>\n",
      "[nltk_data] Error loading wordnet: <urlopen error [Errno -2] Name or\n",
      "[nltk_data]     service not known>\n",
      "[nltk_data] Error loading punkt: <urlopen error [Errno -2] Name or\n",
      "[nltk_data]     service not known>\n",
      "[nltk_data] Error loading wordnet: <urlopen error [Errno -2] Name or\n",
      "[nltk_data]     service not known>\n"
     ]
    }
   ],
   "source": [
    "from PHYSICAL_ACHES_MIGRAINS import aches_migrains\n",
    "from PHYSICAL_EATING_HABIT import eating_habit\n",
    "from PHYSICAL_FATIGUE import fatiguet\n",
    "from PHYSICAL_UNEXPLAINED_ACHES import fatiguet"
   ]
  },
  {
   "cell_type": "code",
   "execution_count": 6,
   "metadata": {},
   "outputs": [
    {
     "name": "stdout",
     "output_type": "stream",
     "text": [
      "[nltk_data] Error loading punkt: <urlopen error [Errno -2] Name or\n",
      "[nltk_data]     service not known>\n",
      "[nltk_data] Error loading wordnet: <urlopen error [Errno -2] Name or\n",
      "[nltk_data]     service not known>\n",
      "[nltk_data] Error loading punkt: <urlopen error [Errno -2] Name or\n",
      "[nltk_data]     service not known>\n",
      "[nltk_data] Error loading wordnet: <urlopen error [Errno -2] Name or\n",
      "[nltk_data]     service not known>\n",
      "[nltk_data] Error loading punkt: <urlopen error [Errno -2] Name or\n",
      "[nltk_data]     service not known>\n",
      "[nltk_data] Error loading wordnet: <urlopen error [Errno -2] Name or\n",
      "[nltk_data]     service not known>\n",
      "[nltk_data] Error loading punkt: <urlopen error [Errno -2] Name or\n",
      "[nltk_data]     service not known>\n",
      "[nltk_data] Error loading wordnet: <urlopen error [Errno -2] Name or\n",
      "[nltk_data]     service not known>\n"
     ]
    }
   ],
   "source": [
    "from SLEEP_DISTURBANCES_DIFFICULTY_SLEEPING import difficulty_falling_asleep\n",
    "from SLEEP_DISTURBANCES_NIGHTMARES import nightmares\n",
    "from SLEEP_DISTURBANCES_NOT_FRESH import not_freshed\n",
    "from SLEEP_DISTURBANCES_STAYING_SLEEPING import difficulty_staying_asleep"
   ]
  },
  {
   "cell_type": "code",
   "execution_count": 7,
   "metadata": {},
   "outputs": [],
   "source": [
    "#this function gives domain i.e 7 sub categories including gad,emotional,physical,social,etc\n",
    "def check_general_classification(X):\n",
    "    with open('general_classification.pkl', 'rb') as file:  \n",
    "        general_classification = pickle.load(file)\n",
    "    return general_classification.predict(pd.Series(X))\n",
    "#fuctions below this line will give sub domains on the basis of class predicted by check_general_classification\n",
    "def gad(X):\n",
    "    with open('GAD.pkl', 'rb') as file:  \n",
    "        gad = pickle.load(file)\n",
    "        return gad.predict(pd.Series(X))\n",
    "def emotional_change(X):\n",
    "    with open('emotional_change.pkl', 'rb') as file:  \n",
    "        emotional_change = pickle.load(file)\n",
    "    return emotional_change.predict(pd.Series(X))\n",
    "def panik_attack(X):\n",
    "    with open('panic attack.pkl', 'rb') as file:  \n",
    "        panik_attack = pickle.load(file)\n",
    "    return panik_attack.predict(pd.Series(X))\n",
    "def poor_performance(X):\n",
    "    with open('poor_performance.pkl', 'rb') as file:  \n",
    "        poor_performance = pickle.load(file)\n",
    "    return poor_performance.predict(pd.Series(X))\n",
    "def sleep_disturbances(X):\n",
    "    with open('sleep_disturbances.pkl', 'rb') as file:  \n",
    "        sleep_disturbances = pickle.load(file)\n",
    "    return sleep_disturbances.predict(pd.Series(X))\n",
    "def social_change(X):\n",
    "    with open('social_change.pkl', 'rb') as file:  \n",
    "        social_change = pickle.load(file)\n",
    "    return social_change.predict(pd.Series(X))\n",
    "def physical_change(X):\n",
    "    with open('physical_change.pkl', 'rb') as file:  \n",
    "        physical_change = pickle.load(file)\n",
    "    return physical_change.predict(pd.Series(X))\n",
    "def happy_side(X):\n",
    "    with open('happy_sad.pkl', 'rb') as file:  \n",
    "        happy_sad = pickle.load(file)\n",
    "    return happy_sad.predict(pd.Series(X))\n",
    "def preprocess(sent):\n",
    "    sent = nltk.word_tokenize(sent)\n",
    "    sent = nltk.pos_tag(sent)\n",
    "    return sent\n",
    "def ner(X):\n",
    "    a=''\n",
    "    sent = preprocess(X)\n",
    "    pattern = 'NP: {<DT>?<JJ>*<NN>}'\n",
    "    cp = nltk.RegexpParser(pattern)\n",
    "    cs = cp.parse(sent)\n",
    "    iob_tagged = tree2conlltags(cs)\n",
    "    ne_tree = nltk.ne_chunk(pos_tag(word_tokenize(X)))\n",
    "    for i in nltk.tree.Tree.leaves(ne_tree):\n",
    "        if i[1]=='NNP':\n",
    "            a=i[0]\n",
    "            break\n",
    "    return a\n",
    "    "
   ]
  },
  {
   "cell_type": "code",
   "execution_count": null,
   "metadata": {
    "scrolled": true
   },
   "outputs": [
    {
     "name": "stdout",
     "output_type": "stream",
     "text": [
      "DASM: My name is DASM.You can call me D and I am all ears to you. If you don't feel like talking type Bye!\n",
      "DASM: Can I know your name? Yes/No: no\n",
      "No Problem, I will call you Buddy\n",
      "Please Enter Your Age To Proceed: 15\n",
      "DASM: Hi Buddy How Are You Today?bad\n",
      "DASM: Please elaborate on that?i am fat anfd dumb\n",
      "gad detected\n",
      "DASM: do you want to elaborate Buddyno\n"
     ]
    }
   ],
   "source": [
    "flag=True #see use of flag in while loop\n",
    "d='DASM' #bot's name\n",
    "number_of_incoreect_attempts=0\n",
    "#GAD_types=[\"Future events\",\"Past behaviors and incidents\",\"Social acceptance\",\"Family matters\",\"Personal abilities\",\"Perceived personal shortcomings\",\"School performance\",\"Perceived personal shortcomings\",]\n",
    "#exp_list_responses=[\"Please Elaborate more.\", \"Please Explain The Situation\",\"I would like to know more\"]\n",
    "print(\"DASM: My name is DASM.You can call me D and I am all ears to you. If you don't feel like talking type Bye!\")\n",
    "name_choice=input(d+\": Can I know your name? Yes/No: \")\n",
    "if name_choice.lower()[0]==\"y\":\n",
    "    name=input(\"Please Enter Your name: \")\n",
    "elif name_choice.lower()[0]==\"n\":\n",
    "    print(\"No Problem, I will call you Buddy\")\n",
    "    name=\"Buddy\"\n",
    "while True:\n",
    "    if input(\"Please Enter Your Age To Proceed: \"):#to do: entries should be valid\n",
    "        break\n",
    "    else:\n",
    "        continue\n",
    "res_1=input(d+\": Hi \"+name+\" How Are You Today?\")\n",
    "while(flag==True):\n",
    "    #con_yn=happy_sad(res1)\n",
    "    con_yn=\"sad\"# using happy_sad fuunction to predict weather user is happy or not con_yn= condition sad or happyy\n",
    "    if con_yn==\"happy\":\n",
    "        print(d+\": I am glad that you are happy. I hope whenever you face any difficulties you will come back to me.\")\n",
    "        break\n",
    "    elif con_yn==\"sad\":\n",
    "        res_2=input(d+\": Please elaborate on that?\")\n",
    "        pred_class=check_general_classification(res_2)\n",
    "        if pred_class==\"Generalized Anxiety Disorder\":\n",
    "            print('gad detected')\n",
    "            final_content=res_2\n",
    "            while True: #to do: add if statement to check number of characters >30 in if res4==n\n",
    "                res_4=input(d+': do you want to elaborate '+name) \n",
    "                if number_of_incoreect_attempts==4:\n",
    "                    print('sorry i was not able to understand, please try again')\n",
    "                    break\n",
    "                if res_4.lower()[0] == 'y':#finished\n",
    "                    res_5=input(d+': please elaborate '+name)\n",
    "                    final_content=final_content + ' ' + res_5\n",
    "                if res_4.lower()[0]=='n':#ad here \n",
    "                    if check_general_classification(final_content)!=pred_class:\n",
    "                            c=c+1\n",
    "                            pred_class=check_general_classification(final_content)\n",
    "                            print(check_general_classification(final_content))#remove this in final code\n",
    "                            print('not same')#remove this in final code\n",
    "                            break\n",
    "                    else:\n",
    "                        sub_domain=gad(final_content)\n",
    "                        if sub_domain=='Future Events':\n",
    "                            print('future detected')\n",
    "                            a=future('future')\n",
    "                            print(a)\n",
    "                            sys.exit()\n",
    "                        if sub_domain=='past behaviour and incident':\n",
    "                            print('past behaviour detected')\n",
    "                            a=past_behaviour('past')\n",
    "                            print(a)\n",
    "                            sys.exit()\n",
    "                        if sub_domain=='social acceptance':\n",
    "                            print('social accept. detected')\n",
    "                            a=social_acceptance('thinking too much')\n",
    "                            sys.exit()\n",
    "                        if sub_domain=='Performance':\n",
    "                            print('performance detected')\n",
    "                            a=poor_performance('give your best')\n",
    "                            print(a)\n",
    "                            sys.exit()\n",
    "                        if sub_domain=='personal abilities':\n",
    "                            print('personal abl. detected')\n",
    "                            a=perosnal_abiities('Self doubt will eat your confidence away')\n",
    "                            print(a)\n",
    "                            sys.exit()\n",
    "               \n",
    "                    '''elif input('are you satisfied with my answer?').lower()[0]=='y':\n",
    "                        flag=False\n",
    "                        break'''\n",
    "        if pred_class==\"Emotional Change\":\n",
    "            print('emotional detected')\n",
    "            print(emotional_change(final_content))\n",
    "            final_content=res_2\n",
    "            while True: #to do: add if statement to check number of characters >30 in if res4==n\n",
    "                res_4=input(d+': do you want to elaborate '+name) \n",
    "                if number_of_incoreect_attempts==4:\n",
    "                    print('sorry i was not able to understand, please try again')\n",
    "                    break\n",
    "                if res_4.lower()[0] == 'y':#finished\n",
    "                    res_5=input(d+': please elaborate '+name)\n",
    "                    final_content=final_content + ' ' + res_5\n",
    "                if res_4.lower()[0]=='n':#add here\n",
    "                    if check_general_classification(final_content)!=pred_class:\n",
    "                            c=c+1\n",
    "                            pred_class=check_general_classification(final_content)\n",
    "                            print(check_general_classification(final_content))#remove this in final code\n",
    "                            print('not same')#remove this in final code\n",
    "                            break\n",
    "                    else:\n",
    "                        print('done')\n",
    "                        sub_domain=emotional_change(final_content)\n",
    "                        if sub_domain=='Difficulty concentrating':\n",
    "                            print('diff. conc. detected')\n",
    "                            a=difficult_in_concentration('focussing')\n",
    "                            print(a)\n",
    "                            sys.exit()\n",
    "                        if sub_domain=='Irritability':\n",
    "                            print('Irritability detected')\n",
    "                            a=Irritaibility('frustated')\n",
    "                            print(a)\n",
    "                            sys.exit()\n",
    "                        if sub_domain=='Restlessness':\n",
    "                            print('restlessness detected')\n",
    "                            a=restlessness('bothering')\n",
    "                            print(a)\n",
    "                            sys.exit()\n",
    "                        if sub_domain=='Unexplained outbursts':\n",
    "                            print('Unexplained outburst detected')\n",
    "                            a=restlessness('feelings')\n",
    "                            print(a)\n",
    "                            sys.exit()\n",
    "        if pred_class==\"Social changes\":\n",
    "            print('social detected')\n",
    "            final_content=res_2\n",
    "            while True: #to do: add if statement to check number of characters >30 in if res4==n\n",
    "                res_4=input(d+': do you want to elaborate '+name) \n",
    "                if number_of_incoreect_attempts==4:\n",
    "                    print('sorry i was not able to understand, please try again')\n",
    "                    break\n",
    "                if res_4.lower()[0] == 'y':#finished\n",
    "                    res_5=input(d+': please elaborate '+name)\n",
    "                    final_content=final_content + ' ' + res_5\n",
    "                if res_4.lower()[0]=='n':#add here\n",
    "                    if check_general_classification(final_content)!=pred_class:\n",
    "                            c=c+1\n",
    "                            pred_class=check_general_classification(final_content)\n",
    "                            print(check_general_classification(final_content))#remove this in final code\n",
    "                            print('not same')#remove this in final code\n",
    "                            break\n",
    "                    else:\n",
    "                        print('done')\n",
    "                        sub_domain=gad(final_content)\n",
    "                        if sub_domain=='Avoiding extracurricular activities':\n",
    "                            print('Avoiding extracur. acti detected')\n",
    "                            avoiding_extracirricular('anxiety')\n",
    "                            sys.exit()\n",
    "                        if sub_domain=='Avoiding interactions with friends':\n",
    "                            print('avoid interaction detected')\n",
    "                            a=avoiding_friends('overthink')\n",
    "                            print(a)\n",
    "                            sys.exit()\n",
    "                        if sub_domain=='Isolating from peer group':\n",
    "                            print('Isolating peer detected')\n",
    "                            a=isolation('overthink')\n",
    "                            print(a)\n",
    "                            sys.exit()\n",
    "                        if sub_domain=='spending increased time alone':\n",
    "                            print('spending increase time alone detected')\n",
    "                            a=spending_increased_time_alone('people')\n",
    "                            print(a)\n",
    "                            sys.exit()\n",
    "        if pred_class==\"Physical changes\":\n",
    "            print('physical detected')\n",
    "            final_content=res_2\n",
    "            while True: #to do: add if statement to check number of characters >30 in if res4==n\n",
    "                res_4=input(d+': do you want to elaborate '+name) \n",
    "                if number_of_incoreect_attempts==4:\n",
    "                    print('sorry i was not able to understand, please try again')\n",
    "                    break\n",
    "                if res_4.lower()[0] == 'y':#finished\n",
    "                    res_5=input(d+': please elaborate '+name)\n",
    "                    final_content=final_content + ' ' + res_5\n",
    "                if res_4.lower()[0]=='n':#add here\n",
    "                    if check_general_classification(final_content)!=pred_class:\n",
    "                            c=c+1\n",
    "                            pred_class=check_general_classification(final_content)\n",
    "                            print(check_general_classification(final_content))#remove this in final code\n",
    "                            print('not same')#remove this in final code\n",
    "                            break\n",
    "                    else:\n",
    "                        print('done')\n",
    "                        sub_domain=gad(final_content)\n",
    "                        if sub_domain=='changing in eating habits':\n",
    "                            print('eating habits detected')\n",
    "                            a=eating_habit('zone')\n",
    "                            print(a)\n",
    "                            sys.exit()\n",
    "                        if sub_domain=='excessive fatique':\n",
    "                            print('Excessive fatigue detected')\n",
    "                            a=fatiguet('overworried')\n",
    "                            print(a)\n",
    "                            sys.exit()\n",
    "                        if sub_domain=='frequent headaches migranes':\n",
    "                            print('Frequent headaches migranes detected')\n",
    "                            a=aches_migrains('emotionally')\n",
    "                            print(a)\n",
    "                            sys.exit()\n",
    "                        if sub_domain=='unexplained aches and pains':\n",
    "                            print('Unexplained aches ad pains detected')\n",
    "                            a=fatiguet('overworried')\n",
    "                            print(a)\n",
    "                            sys.exit()\n",
    "        if pred_class==\"Sleep Disturbances\":\n",
    "            print('sleep disturbance detected')\n",
    "            final_content=res_2\n",
    "            while True: #to do: add if statement to check number of characters >30 in if res4==n\n",
    "                res_4=input(d+': do you want to elaborate '+name) \n",
    "                if number_of_incoreect_attempts==4:\n",
    "                    print('sorry i was not able to understand, please try again')\n",
    "                    sys.exit()\n",
    "                if res_4.lower()[0] == 'y':#finished\n",
    "                    res_5=input(d+': please elaborate '+name)\n",
    "                    final_content=final_content + ' ' + res_5\n",
    "                if res_4.lower()[0]=='n':#add here\n",
    "                    if check_general_classification(final_content)!=pred_class:\n",
    "                            c=c+1\n",
    "                            pred_class=check_general_classification(final_content)\n",
    "                            print(check_general_classification(final_content))#remove this in final code\n",
    "                            print('not same')#remove this in final code\n",
    "                            break\n",
    "                    else:\n",
    "                        print('done')\n",
    "                        sub_domain=gad(final_content)\n",
    "                        if sub_domain=='difficulty falling asleep':\n",
    "                            print('diff. falling asleep detected')\n",
    "                            a=difficulty_falling_asleep('contributes')\n",
    "                            print(a)\n",
    "                            sys.exit()\n",
    "                        if sub_domain=='difficulty staying asleep':\n",
    "                            print('diff. staying asleep detected')\n",
    "                            a=difficulty_staying_asleep('minds')\n",
    "                            print(a)\n",
    "                            sys.exit()\n",
    "                        if sub_domain=='frequently nightmares':\n",
    "                            print('frequently nightmares detected')\n",
    "                            a=nightmares('essentially')\n",
    "                            print(a)\n",
    "                            sys.exit()\n",
    "                        if sub_domain=='not feeling refreshed after sleep':\n",
    "                            print('not feeling refreshed after sleep detected')\n",
    "                            a=not_freshed('cycle')\n",
    "                            print(a)\n",
    "                            sys.exit()\n",
    "        "
   ]
  },
  {
   "cell_type": "code",
   "execution_count": null,
   "metadata": {},
   "outputs": [],
   "source": []
  },
  {
   "cell_type": "code",
   "execution_count": 12,
   "metadata": {},
   "outputs": [
    {
     "data": {
      "text/plain": [
       "\"don't stick to your comfort zone when food is concerned.\""
      ]
     },
     "execution_count": 12,
     "metadata": {},
     "output_type": "execute_result"
    }
   ],
   "source": [
    "eating_habit('zone')"
   ]
  },
  {
   "cell_type": "code",
   "execution_count": 22,
   "metadata": {},
   "outputs": [
    {
     "data": {
      "text/plain": [
       "'it even contributes to your messed up sleep cycle.'"
      ]
     },
     "execution_count": 22,
     "metadata": {},
     "output_type": "execute_result"
    }
   ],
   "source": [
    "difficulty_falling_asleep('contributes')"
   ]
  },
  {
   "cell_type": "code",
   "execution_count": 23,
   "metadata": {},
   "outputs": [
    {
     "data": {
      "text/plain": [
       "'people often have difficulty staying asleep when their minds are pre-occupied with something.'"
      ]
     },
     "execution_count": 23,
     "metadata": {},
     "output_type": "execute_result"
    }
   ],
   "source": [
    "difficulty_staying_asleep('minds')"
   ]
  },
  {
   "cell_type": "code",
   "execution_count": 25,
   "metadata": {},
   "outputs": [
    {
     "data": {
      "text/plain": [
       "'in a way, it helps in dissipating the anxiety, essentially getting rid of it.'"
      ]
     },
     "execution_count": 25,
     "metadata": {},
     "output_type": "execute_result"
    }
   ],
   "source": [
    "nightmares('essentially')"
   ]
  },
  {
   "cell_type": "code",
   "execution_count": 27,
   "metadata": {},
   "outputs": [
    {
     "data": {
      "text/plain": [
       "'if not able to improve , go see a prof.\\n\\n\\n\\n\\n\\n\\noften happens because of messed up sleep cycle, which may be a result of depression or stress.'"
      ]
     },
     "execution_count": 27,
     "metadata": {},
     "output_type": "execute_result"
    }
   ],
   "source": [
    "not_freshed('cycle')"
   ]
  },
  {
   "cell_type": "code",
   "execution_count": 12,
   "metadata": {},
   "outputs": [
    {
     "data": {
      "text/plain": [
       "\"you won't achieve anything by worrying about the future.\""
      ]
     },
     "execution_count": 12,
     "metadata": {},
     "output_type": "execute_result"
    }
   ],
   "source": [
    "future('future')"
   ]
  },
  {
   "cell_type": "code",
   "execution_count": 10,
   "metadata": {},
   "outputs": [
    {
     "data": {
      "text/plain": [
       "\"I am sorry! I don't understand you\""
      ]
     },
     "execution_count": 10,
     "metadata": {},
     "output_type": "execute_result"
    }
   ],
   "source": [
    "Irritaibility('frustated')"
   ]
  },
  {
   "cell_type": "code",
   "execution_count": 12,
   "metadata": {},
   "outputs": [
    {
     "data": {
      "text/plain": [
       "array([ True])"
      ]
     },
     "execution_count": 12,
     "metadata": {},
     "output_type": "execute_result"
    }
   ],
   "source": [
    "gad('if my building get on fire')=='Future Events'"
   ]
  },
  {
   "cell_type": "code",
   "execution_count": 13,
   "metadata": {},
   "outputs": [
    {
     "data": {
      "text/plain": [
       "\"you won't achieve anything by worrying about the future.\""
      ]
     },
     "execution_count": 13,
     "metadata": {},
     "output_type": "execute_result"
    }
   ],
   "source": [
    "future('Future')"
   ]
  },
  {
   "cell_type": "code",
   "execution_count": 9,
   "metadata": {},
   "outputs": [],
   "source": [
    "b=ner('my name is aakash')"
   ]
  },
  {
   "cell_type": "code",
   "execution_count": 10,
   "metadata": {},
   "outputs": [
    {
     "data": {
      "text/plain": [
       "''"
      ]
     },
     "execution_count": 10,
     "metadata": {},
     "output_type": "execute_result"
    }
   ],
   "source": [
    "b"
   ]
  },
  {
   "cell_type": "code",
   "execution_count": null,
   "metadata": {},
   "outputs": [],
   "source": []
  }
 ],
 "metadata": {
  "kernelspec": {
   "display_name": "Python 3",
   "language": "python",
   "name": "python3"
  },
  "language_info": {
   "codemirror_mode": {
    "name": "ipython",
    "version": 3
   },
   "file_extension": ".py",
   "mimetype": "text/x-python",
   "name": "python",
   "nbconvert_exporter": "python",
   "pygments_lexer": "ipython3",
   "version": "3.6.5"
  }
 },
 "nbformat": 4,
 "nbformat_minor": 2
}
