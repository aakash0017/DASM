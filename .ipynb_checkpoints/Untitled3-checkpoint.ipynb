{
 "cells": [
  {
   "cell_type": "code",
   "execution_count": 4,
   "metadata": {},
   "outputs": [],
   "source": [
    "import pyttsx3\n"
   ]
  },
  {
   "cell_type": "code",
   "execution_count": 7,
   "metadata": {},
   "outputs": [],
   "source": [
    "from gtts import gTTS\n",
    "import os"
   ]
  },
  {
   "cell_type": "code",
   "execution_count": 8,
   "metadata": {},
   "outputs": [],
   "source": [
    "tts = gTTS(text='Good morning', lang='en')"
   ]
  },
  {
   "cell_type": "code",
   "execution_count": 9,
   "metadata": {},
   "outputs": [],
   "source": [
    "tts.save(\"good.mp3\")"
   ]
  },
  {
   "cell_type": "code",
   "execution_count": 10,
   "metadata": {},
   "outputs": [
    {
     "data": {
      "text/plain": [
       "32512"
      ]
     },
     "execution_count": 10,
     "metadata": {},
     "output_type": "execute_result"
    }
   ],
   "source": [
    "os.system(\"mpg321 good.mp3\")"
   ]
  },
  {
   "cell_type": "code",
   "execution_count": 11,
   "metadata": {},
   "outputs": [],
   "source": [
    "import nltk\n",
    "from random import randint\n",
    "import numpy as np\n",
    "import random\n",
    "import string\n",
    "import pickle\n",
    "import pandas as pd\n",
    "import sys"
   ]
  },
  {
   "cell_type": "code",
   "execution_count": 12,
   "metadata": {},
   "outputs": [],
   "source": [
    "#this function gives domain i.e 7 sub categories including gad,emotional,physical,social,etc\n",
    "def check_general_classification(X):\n",
    "    with open('general_classification.pkl', 'rb') as file:  \n",
    "        general_classification = pickle.load(file)\n",
    "    return general_classification.predict(pd.Series(X))\n",
    "#fuctions below this line will give sub domains on the basis of class predicted by check_general_classification\n",
    "def gad(X):\n",
    "    with open('GAD.pkl', 'rb') as file:  \n",
    "        gad = pickle.load(file)\n",
    "        return gad.predict(pd.Series(X))\n",
    "def emotional_change(X):\n",
    "    with open('emotional_change.pkl', 'rb') as file:  \n",
    "        emotional_change = pickle.load(file)\n",
    "    return emotional_change.predict(pd.Series(X))\n",
    "def panik_attack(X):\n",
    "    with open('panic attack.pkl', 'rb') as file:  \n",
    "        panik_attack = pickle.load(file)\n",
    "    return panik_attack.predict(pd.Series(X))\n",
    "def poor_performance(X):\n",
    "    with open('poor_performance.pkl', 'rb') as file:  \n",
    "        poor_performance = pickle.load(file)\n",
    "    return poor_performance.predict(pd.Series(X))\n",
    "def sleep_disturbances(X):\n",
    "    with open('sleep_disturbances.pkl', 'rb') as file:  \n",
    "        sleep_disturbances = pickle.load(file)\n",
    "    return sleep_disturbances.predict(pd.Series(X))\n",
    "def social_change(X):\n",
    "    with open('social_change.pkl', 'rb') as file:  \n",
    "        social_change = pickle.load(file)\n",
    "    return social_change.predict(pd.Series(X))\n",
    "def physical_change(X):\n",
    "    with open('physical_change.pkl', 'rb') as file:  \n",
    "        physical_change = pickle.load(file)\n",
    "    return physical_change.predict(pd.Series(X))\n",
    "def happy_side(X):\n",
    "    with open('happy_sad.pkl', 'rb') as file:  \n",
    "        happy_sad = pickle.load(file)\n",
    "    return happy_sad.predict(pd.Series(X))\n",
    "      \n",
    "        "
   ]
  },
  {
   "cell_type": "code",
   "execution_count": 13,
   "metadata": {},
   "outputs": [
    {
     "ename": "ModuleNotFoundError",
     "evalue": "No module named 'sound'",
     "output_type": "error",
     "traceback": [
      "\u001b[0;31m---------------------------------------------------------------------------\u001b[0m",
      "\u001b[0;31mModuleNotFoundError\u001b[0m                       Traceback (most recent call last)",
      "\u001b[0;32m<ipython-input-13-01c596984ab9>\u001b[0m in \u001b[0;36m<module>\u001b[0;34m\u001b[0m\n\u001b[0;32m----> 1\u001b[0;31m \u001b[0;32mimport\u001b[0m \u001b[0msound\u001b[0m\u001b[0;34m\u001b[0m\u001b[0m\n\u001b[0m\u001b[1;32m      2\u001b[0m \u001b[0;34m\u001b[0m\u001b[0m\n\u001b[1;32m      3\u001b[0m \u001b[0mr\u001b[0m \u001b[0;34m=\u001b[0m \u001b[0msound\u001b[0m\u001b[0;34m.\u001b[0m\u001b[0mRecorder\u001b[0m\u001b[0;34m(\u001b[0m\u001b[0;34m'audio.m4a'\u001b[0m\u001b[0;34m)\u001b[0m\u001b[0;34m\u001b[0m\u001b[0m\n\u001b[1;32m      4\u001b[0m \u001b[0mr\u001b[0m\u001b[0;34m.\u001b[0m\u001b[0mrecord\u001b[0m\u001b[0;34m(\u001b[0m\u001b[0;36m3\u001b[0m\u001b[0;34m)\u001b[0m  \u001b[0;31m# seconds\u001b[0m\u001b[0;34m\u001b[0m\u001b[0m\n",
      "\u001b[0;31mModuleNotFoundError\u001b[0m: No module named 'sound'"
     ]
    }
   ],
   "source": [
    "import sound\n",
    "\n",
    "r = sound.Recorder('audio.m4a')\n",
    "r.record(3)  # seconds"
   ]
  },
  {
   "cell_type": "code",
   "execution_count": 14,
   "metadata": {},
   "outputs": [
    {
     "ename": "ModuleNotFoundError",
     "evalue": "No module named 'speech'",
     "output_type": "error",
     "traceback": [
      "\u001b[0;31m---------------------------------------------------------------------------\u001b[0m",
      "\u001b[0;31mModuleNotFoundError\u001b[0m                       Traceback (most recent call last)",
      "\u001b[0;32m<ipython-input-14-a6ccd31767c0>\u001b[0m in \u001b[0;36m<module>\u001b[0;34m\u001b[0m\n\u001b[0;32m----> 1\u001b[0;31m \u001b[0;32mimport\u001b[0m \u001b[0mspeech\u001b[0m\u001b[0;34m\u001b[0m\u001b[0m\n\u001b[0m",
      "\u001b[0;31mModuleNotFoundError\u001b[0m: No module named 'speech'"
     ]
    }
   ],
   "source": [
    "import speech"
   ]
  },
  {
   "cell_type": "code",
   "execution_count": 16,
   "metadata": {},
   "outputs": [],
   "source": [
    "import sounddevice as sd"
   ]
  },
  {
   "cell_type": "code",
   "execution_count": 18,
   "metadata": {},
   "outputs": [],
   "source": [
    "duration = 10.5  # seconds\n",
    "myrecording = sd.rec(int(duration * 44100), samplerate=44100, channels=2)"
   ]
  },
  {
   "cell_type": "code",
   "execution_count": 19,
   "metadata": {},
   "outputs": [],
   "source": [
    "sd.default.samplerate = 44100\n",
    "sd.default.channels = 2"
   ]
  },
  {
   "cell_type": "code",
   "execution_count": 21,
   "metadata": {},
   "outputs": [],
   "source": [
    "myrecording = sd.rec(int(duration * 44100))"
   ]
  },
  {
   "cell_type": "code",
   "execution_count": null,
   "metadata": {},
   "outputs": [],
   "source": []
  }
 ],
 "metadata": {
  "kernelspec": {
   "display_name": "Python 3",
   "language": "python",
   "name": "python3"
  },
  "language_info": {
   "codemirror_mode": {
    "name": "ipython",
    "version": 3
   },
   "file_extension": ".py",
   "mimetype": "text/x-python",
   "name": "python",
   "nbconvert_exporter": "python",
   "pygments_lexer": "ipython3",
   "version": "3.6.5"
  }
 },
 "nbformat": 4,
 "nbformat_minor": 2
}
