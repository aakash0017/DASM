{
 "cells": [
  {
   "cell_type": "code",
   "execution_count": 13,
   "metadata": {},
   "outputs": [],
   "source": [
    "import pandas as pd\n",
    "import numpy as np\n",
    "from sklearn.feature_extraction.text import CountVectorizer\n",
    "from sklearn.feature_extraction.text import TfidfTransformer\n",
    "from sklearn.pipeline import Pipeline\n",
    "from sklearn.model_selection import train_test_split\n",
    "from sklearn.linear_model import SGDClassifier\n",
    "from sklearn.pipeline import Pipeline\n",
    "import pickle"
   ]
  },
  {
   "cell_type": "code",
   "execution_count": 14,
   "metadata": {},
   "outputs": [
    {
     "name": "stderr",
     "output_type": "stream",
     "text": [
      "/home/aakash/anaconda3/lib/python3.6/site-packages/sklearn/linear_model/stochastic_gradient.py:117: DeprecationWarning: n_iter parameter is deprecated in 0.19 and will be removed in 0.21. Use max_iter and tol instead.\n",
      "  DeprecationWarning)\n"
     ]
    }
   ],
   "source": [
    "df=pd.read_csv('Anxiety - Sheet1.csv')\n",
    "X=df.Questions\n",
    "y = df.type\n",
    "text_clf_svm = Pipeline([('vect', CountVectorizer()),\n",
    "                          ('tfidf', TfidfTransformer()),\n",
    "                          ('clf-svm', SGDClassifier(loss='hinge', penalty='l2',\n",
    "                           alpha=1e-3, n_iter=5, random_state=42)),\n",
    " ])\n",
    "\n",
    "text_clf_svm.fit(X,y)\n",
    "pkl_filename = \"general_classification.pkl\"  \n",
    "with open(pkl_filename, 'wb') as file:  \n",
    "    pickle.dump(text_clf_svm, file)"
   ]
  },
  {
   "cell_type": "code",
   "execution_count": 17,
   "metadata": {},
   "outputs": [
    {
     "name": "stderr",
     "output_type": "stream",
     "text": [
      "/home/aakash/anaconda3/lib/python3.6/site-packages/sklearn/linear_model/stochastic_gradient.py:117: DeprecationWarning: n_iter parameter is deprecated in 0.19 and will be removed in 0.21. Use max_iter and tol instead.\n",
      "  DeprecationWarning)\n"
     ]
    }
   ],
   "source": [
    "df=pd.read_csv('Anxiety - GAD.csv')\n",
    "X=df.Questions\n",
    "y = df.type\n",
    "text_clf_svm = Pipeline([('vect', CountVectorizer()),\n",
    "                          ('tfidf', TfidfTransformer()),\n",
    "                          ('clf-svm', SGDClassifier(loss='hinge', penalty='l2',\n",
    "                           alpha=1e-3, n_iter=5, random_state=42)),\n",
    " ])\n",
    "\n",
    "text_clf_svm.fit(X,y)\n",
    "pkl_filename = \"GAD.pkl\"  \n",
    "with open(pkl_filename, 'wb') as file:  \n",
    "    pickle.dump(text_clf_svm, file) "
   ]
  },
  {
   "cell_type": "code",
   "execution_count": 29,
   "metadata": {},
   "outputs": [],
   "source": [
    "df=pd.read_csv(r'/home/aakash/Downloads/Anxiety - Sheet1.csv')\n",
    "X=df.Questions\n",
    "y = df.type\n",
    "text_clf_svm = Pipeline([('vect', CountVectorizer()),\n",
    "                          ('tfidf', TfidfTransformer()),\n",
    "                          ('clf-svm', SGDClassifier(loss='hinge', penalty='l2',\n",
    "                           alpha=1e-3, n_iter=5, random_state=42)),\n",
    " ])\n",
    "\n",
    "text_clf_svm.fit(X,y)\n",
    "pkl_filename = \"emotional_change.pkl\"  \n",
    "with open(pkl_filename, 'wb') as file:  \n",
    "    pickle.dump(text_clf_svm, file)"
   ]
  },
  {
   "cell_type": "code",
   "execution_count": 30,
   "metadata": {},
   "outputs": [],
   "source": [
    "df=pd.read_csv(r'/home/aakash/Downloads/Anxiety - Sheet1.csv')\n",
    "X=df.Questions\n",
    "y = df.type\n",
    "text_clf_svm = Pipeline([('vect', CountVectorizer()),\n",
    "                          ('tfidf', TfidfTransformer()),\n",
    "                          ('clf-svm', SGDClassifier(loss='hinge', penalty='l2',\n",
    "                           alpha=1e-3, n_iter=5, random_state=42)),\n",
    " ])\n",
    "\n",
    "text_clf_svm.fit(X,y)\n",
    "pkl_filename = \"physical_change.pkl\"  \n",
    "with open(pkl_filename, 'wb') as file:  \n",
    "    pickle.dump(text_clf_svm, file)"
   ]
  },
  {
   "cell_type": "code",
   "execution_count": 31,
   "metadata": {},
   "outputs": [],
   "source": [
    "df=pd.read_csv(r'/home/aakash/Downloads/Anxiety - Sheet1.csv')\n",
    "X=df.Questions\n",
    "y = df.type\n",
    "text_clf_svm = Pipeline([('vect', CountVectorizer()),\n",
    "                          ('tfidf', TfidfTransformer()),\n",
    "                          ('clf-svm', SGDClassifier(loss='hinge', penalty='l2',\n",
    "                           alpha=1e-3, n_iter=5, random_state=42)),\n",
    " ])\n",
    "\n",
    "text_clf_svm.fit(X,y)\n",
    "pkl_filename = \"social_change.pkl\"  \n",
    "with open(pkl_filename, 'wb') as file:  \n",
    "    pickle.dump(text_clf_svm, file)"
   ]
  },
  {
   "cell_type": "code",
   "execution_count": 32,
   "metadata": {},
   "outputs": [],
   "source": [
    "df=pd.read_csv(r'/home/aakash/Downloads/Anxiety - Sheet1.csv')\n",
    "X=df.Questions\n",
    "y = df.type\n",
    "text_clf_svm = Pipeline([('vect', CountVectorizer()),\n",
    "                          ('tfidf', TfidfTransformer()),\n",
    "                          ('clf-svm', SGDClassifier(loss='hinge', penalty='l2',\n",
    "                           alpha=1e-3, n_iter=5, random_state=42)),\n",
    " ])\n",
    "\n",
    "text_clf_svm.fit(X,y)\n",
    "pkl_filename = \"sleep_disturbances.pkl\"  \n",
    "with open(pkl_filename, 'wb') as file:  \n",
    "    pickle.dump(text_clf_svm, file)"
   ]
  },
  {
   "cell_type": "code",
   "execution_count": 33,
   "metadata": {},
   "outputs": [],
   "source": [
    "df=pd.read_csv(r'/home/aakash/Downloads/Anxiety - Sheet1.csv')\n",
    "X=df.Questions\n",
    "y = df.type\n",
    "text_clf_svm = Pipeline([('vect', CountVectorizer()),\n",
    "                          ('tfidf', TfidfTransformer()),\n",
    "                          ('clf-svm', SGDClassifier(loss='hinge', penalty='l2',\n",
    "                           alpha=1e-3, n_iter=5, random_state=42)),\n",
    " ])\n",
    "\n",
    "text_clf_svm.fit(X,y)\n",
    "pkl_filename = \"poor_performance.pkl\"  \n",
    "with open(pkl_filename, 'wb') as file:  \n",
    "    pickle.dump(text_clf_svm, file)"
   ]
  },
  {
   "cell_type": "code",
   "execution_count": 35,
   "metadata": {},
   "outputs": [],
   "source": [
    "df=pd.read_csv(r'/home/aakash/Downloads/Anxiety - Sheet1.csv')\n",
    "X=df.Questions\n",
    "y = df.type\n",
    "text_clf_svm = Pipeline([('vect', CountVectorizer()),\n",
    "                          ('tfidf', TfidfTransformer()),\n",
    "                          ('clf-svm', SGDClassifier(loss='hinge', penalty='l2',\n",
    "                           alpha=1e-3, n_iter=5, random_state=42)),\n",
    " ])\n",
    "\n",
    "text_clf_svm.fit(X,y)\n",
    "pkl_filename = \"panic attack.pkl\"  \n",
    "with open(pkl_filename, 'wb') as file:  \n",
    "    pickle.dump(text_clf_svm, file)"
   ]
  },
  {
   "cell_type": "code",
   "execution_count": 36,
   "metadata": {},
   "outputs": [],
   "source": [
    "df=pd.read_csv(r'/home/aakash/Downloads/Anxiety - Sheet1.csv')\n",
    "X=df.Questions\n",
    "y = df.type\n",
    "text_clf_svm = Pipeline([('vect', CountVectorizer()),\n",
    "                          ('tfidf', TfidfTransformer()),\n",
    "                          ('clf-svm', SGDClassifier(loss='hinge', penalty='l2',\n",
    "                           alpha=1e-3, n_iter=5, random_state=42)),\n",
    " ])\n",
    "\n",
    "text_clf_svm.fit(X,y)\n",
    "pkl_filename = \"happy_sad.pkl\"  \n",
    "with open(pkl_filename, 'wb') as file:  \n",
    "    pickle.dump(text_clf_svm, file)"
   ]
  }
 ],
 "metadata": {
  "kernelspec": {
   "display_name": "Python 3",
   "language": "python",
   "name": "python3"
  },
  "language_info": {
   "codemirror_mode": {
    "name": "ipython",
    "version": 3
   },
   "file_extension": ".py",
   "mimetype": "text/x-python",
   "name": "python",
   "nbconvert_exporter": "python",
   "pygments_lexer": "ipython3",
   "version": "3.6.5"
  }
 },
 "nbformat": 4,
 "nbformat_minor": 2
}
